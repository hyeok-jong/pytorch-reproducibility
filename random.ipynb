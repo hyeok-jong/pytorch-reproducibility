{
 "cells": [
  {
   "cell_type": "code",
   "execution_count": 1,
   "metadata": {},
   "outputs": [],
   "source": [
    "import random"
   ]
  },
  {
   "cell_type": "code",
   "execution_count": 2,
   "metadata": {},
   "outputs": [
    {
     "name": "stdout",
     "output_type": "stream",
     "text": [
      "[7, 9, 4, 8, 7, 1, 7, 8, 9, 6]\n"
     ]
    }
   ],
   "source": [
    "print([random.randint(1,10) for _ in range(10)])"
   ]
  },
  {
   "cell_type": "code",
   "execution_count": 3,
   "metadata": {},
   "outputs": [
    {
     "name": "stdout",
     "output_type": "stream",
     "text": [
      "[7, 7, 1, 5, 9, 8, 7, 5, 8, 6]\n"
     ]
    }
   ],
   "source": [
    "random.seed(0)\n",
    "print([random.randint(1,10) for _ in range(10)])"
   ]
  },
  {
   "cell_type": "code",
   "execution_count": 4,
   "metadata": {},
   "outputs": [
    {
     "name": "stdout",
     "output_type": "stream",
     "text": [
      "[10, 4, 9, 3, 5, 3, 2, 10, 5, 9]\n"
     ]
    }
   ],
   "source": [
    "print([random.randint(1,10) for _ in range(10)])"
   ]
  },
  {
   "cell_type": "code",
   "execution_count": 5,
   "metadata": {},
   "outputs": [
    {
     "name": "stdout",
     "output_type": "stream",
     "text": [
      "[7, 7, 1, 5, 9, 8, 7, 5, 8, 6]\n",
      "[10, 4, 9, 3, 5, 3, 2, 10, 5, 9]\n"
     ]
    }
   ],
   "source": [
    "random.seed(0)\n",
    "print([random.randint(1,10) for _ in range(10)])\n",
    "print([random.randint(1,10) for _ in range(10)])"
   ]
  },
  {
   "cell_type": "markdown",
   "metadata": {},
   "source": [
    "### i.e. python random acts like iterator\n",
    "### and once set random seed the iterator initialized"
   ]
  },
  {
   "cell_type": "markdown",
   "metadata": {},
   "source": []
  }
 ],
 "metadata": {
  "kernelspec": {
   "display_name": "Python 3.8.13 ('local')",
   "language": "python",
   "name": "python3"
  },
  "language_info": {
   "codemirror_mode": {
    "name": "ipython",
    "version": 3
   },
   "file_extension": ".py",
   "mimetype": "text/x-python",
   "name": "python",
   "nbconvert_exporter": "python",
   "pygments_lexer": "ipython3",
   "version": "3.8.13"
  },
  "orig_nbformat": 4,
  "vscode": {
   "interpreter": {
    "hash": "b6221d25c49508bbd06eefa700aaca06effc8dd1c8b9357bdab3dcfac1dd50f1"
   }
  }
 },
 "nbformat": 4,
 "nbformat_minor": 2
}
