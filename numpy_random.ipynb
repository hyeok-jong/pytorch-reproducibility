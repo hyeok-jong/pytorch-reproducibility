{
 "cells": [
  {
   "cell_type": "code",
   "execution_count": 1,
   "metadata": {},
   "outputs": [],
   "source": [
    "import numpy as np\n"
   ]
  },
  {
   "cell_type": "code",
   "execution_count": 2,
   "metadata": {},
   "outputs": [
    {
     "name": "stdout",
     "output_type": "stream",
     "text": [
      "[array([9]), array([3]), array([4]), array([0]), array([8]), array([0]), array([5]), array([7]), array([4]), array([9])]\n"
     ]
    }
   ],
   "source": [
    "print([np.random.randint(0, 10, size=1, dtype=int) for _ in range(10)])"
   ]
  },
  {
   "cell_type": "code",
   "execution_count": 3,
   "metadata": {},
   "outputs": [
    {
     "name": "stdout",
     "output_type": "stream",
     "text": [
      "[array([5]), array([0]), array([3]), array([3]), array([7]), array([9]), array([3]), array([5]), array([2]), array([4])]\n"
     ]
    }
   ],
   "source": [
    "np.random.seed(0)\n",
    "print([np.random.randint(0, 10, size=1, dtype=int) for _ in range(10)])"
   ]
  },
  {
   "cell_type": "code",
   "execution_count": 4,
   "metadata": {},
   "outputs": [
    {
     "name": "stdout",
     "output_type": "stream",
     "text": [
      "[array([7]), array([6]), array([8]), array([8]), array([1]), array([6]), array([7]), array([7]), array([8]), array([1])]\n"
     ]
    }
   ],
   "source": [
    "print([np.random.randint(0, 10, size=1, dtype=int) for _ in range(10)])"
   ]
  },
  {
   "cell_type": "code",
   "execution_count": 5,
   "metadata": {},
   "outputs": [
    {
     "name": "stdout",
     "output_type": "stream",
     "text": [
      "[array([5]), array([0]), array([3]), array([3]), array([7]), array([9]), array([3]), array([5]), array([2]), array([4])]\n",
      "[array([7]), array([6]), array([8]), array([8]), array([1]), array([6]), array([7]), array([7]), array([8]), array([1])]\n"
     ]
    }
   ],
   "source": [
    "np.random.seed(0)\n",
    "print([np.random.randint(0, 10, size=1, dtype=int) for _ in range(10)])\n",
    "print([np.random.randint(0, 10, size=1, dtype=int) for _ in range(10)])"
   ]
  },
  {
   "cell_type": "markdown",
   "metadata": {},
   "source": [
    "### i.e. as python random acts like iterator numpy dose same\n",
    "### and once set random seed the iterator initialized"
   ]
  },
  {
   "cell_type": "code",
   "execution_count": 6,
   "metadata": {},
   "outputs": [
    {
     "name": "stdout",
     "output_type": "stream",
     "text": [
      "[5 0 3]\n",
      "[5 0 3 3 7]\n",
      "****************************************\n",
      "[5 8 9]\n",
      "[5 8 9 5 0]\n",
      "****************************************\n",
      "[8 8 6]\n",
      "[8 8 6 2 8]\n",
      "****************************************\n"
     ]
    }
   ],
   "source": [
    "for i in range(3):\n",
    "    np.random.seed(i)\n",
    "    print(np.random.randint(0, 10, size=3, dtype=int))\n",
    "    np.random.seed(i)\n",
    "    print(np.random.randint(0, 10, size=5, dtype=int))\n",
    "    print('*'*40)"
   ]
  },
  {
   "cell_type": "markdown",
   "metadata": {},
   "source": [
    "### Above block shows that for array, numpy fill the array as order"
   ]
  },
  {
   "cell_type": "code",
   "execution_count": 7,
   "metadata": {},
   "outputs": [
    {
     "name": "stdout",
     "output_type": "stream",
     "text": [
      "[[1.76405235 0.40015721]\n",
      " [0.97873798 2.2408932 ]]\n",
      "[[ 1.76405235  0.40015721  0.97873798  2.2408932 ]\n",
      " [ 1.86755799 -0.97727788  0.95008842 -0.15135721]]\n",
      "****************************************\n",
      "[[ 1.62434536 -0.61175641]\n",
      " [-0.52817175 -1.07296862]]\n",
      "[[ 1.62434536 -0.61175641 -0.52817175 -1.07296862]\n",
      " [ 0.86540763 -2.3015387   1.74481176 -0.7612069 ]]\n",
      "****************************************\n"
     ]
    }
   ],
   "source": [
    "for i in range(2):\n",
    "    np.random.seed(i)\n",
    "    print(np.random.randn(2, 2))\n",
    "    np.random.seed(i)\n",
    "    print(np.random.randn(2, 4))\n",
    "    print('*'*40)"
   ]
  },
  {
   "cell_type": "markdown",
   "metadata": {},
   "source": [
    "## also for 2d array numpy fills as order  "
   ]
  },
  {
   "cell_type": "code",
   "execution_count": 8,
   "metadata": {},
   "outputs": [
    {
     "name": "stdout",
     "output_type": "stream",
     "text": [
      "[[1.76405235 0.40015721]\n",
      " [0.97873798 2.2408932 ]]\n",
      "[[ 1.86755799 -0.97727788]\n",
      " [ 0.95008842 -0.15135721]]\n",
      "[[ 1.76405235  0.40015721  0.97873798  2.2408932 ]\n",
      " [ 1.86755799 -0.97727788  0.95008842 -0.15135721]]\n",
      "[[ 1.62434536 -0.61175641]\n",
      " [-0.52817175 -1.07296862]]\n",
      "[[ 0.86540763 -2.3015387 ]\n",
      " [ 1.74481176 -0.7612069 ]]\n",
      "[[ 1.62434536 -0.61175641 -0.52817175 -1.07296862]\n",
      " [ 0.86540763 -2.3015387   1.74481176 -0.7612069 ]]\n"
     ]
    }
   ],
   "source": [
    "for i in range(2):\n",
    "    np.random.seed(i)\n",
    "    print(np.random.randn(2, 2))\n",
    "    print(np.random.randn(2, 2))\n",
    "    np.random.seed(i)\n",
    "    print(np.random.randn(2, 4))\n",
    "    print('*'*40)"
   ]
  },
  {
   "cell_type": "markdown",
   "metadata": {},
   "source": [
    "## However, one have to be caution\n",
    "## Since when numpy fill the array along with aixs\n",
    "## Thus, just concatnating the two 2X2 arrays is not equal to 2X4 or 4X2"
   ]
  },
  {
   "cell_type": "code",
   "execution_count": null,
   "metadata": {},
   "outputs": [],
   "source": []
  }
 ],
 "metadata": {
  "kernelspec": {
   "display_name": "Python 3.8.13 ('local')",
   "language": "python",
   "name": "python3"
  },
  "language_info": {
   "codemirror_mode": {
    "name": "ipython",
    "version": 3
   },
   "file_extension": ".py",
   "mimetype": "text/x-python",
   "name": "python",
   "nbconvert_exporter": "python",
   "pygments_lexer": "ipython3",
   "version": "3.8.13"
  },
  "orig_nbformat": 4,
  "vscode": {
   "interpreter": {
    "hash": "b6221d25c49508bbd06eefa700aaca06effc8dd1c8b9357bdab3dcfac1dd50f1"
   }
  }
 },
 "nbformat": 4,
 "nbformat_minor": 2
}
